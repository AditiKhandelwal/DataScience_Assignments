{
  "nbformat": 4,
  "nbformat_minor": 0,
  "metadata": {
    "colab": {
      "name": "Assignment1.ipynb",
      "provenance": [],
      "authorship_tag": "ABX9TyN2tLPLA/mLPVrkZ0orJRoj",
      "include_colab_link": true
    },
    "kernelspec": {
      "name": "python3",
      "display_name": "Python 3"
    }
  },
  "cells": [
    {
      "cell_type": "markdown",
      "metadata": {
        "id": "view-in-github",
        "colab_type": "text"
      },
      "source": [
        "<a href=\"https://colab.research.google.com/github/AditiKhandelwal/DataScience_Assignments/blob/master/Assignment1.ipynb\" target=\"_parent\"><img src=\"https://colab.research.google.com/assets/colab-badge.svg\" alt=\"Open In Colab\"/></a>"
      ]
    },
    {
      "cell_type": "code",
      "metadata": {
        "id": "BoC8KGZ7TuL2",
        "colab_type": "code",
        "colab": {
          "base_uri": "https://localhost:8080/",
          "height": 295
        },
        "outputId": "8a5ccc70-2b26-40a9-8ab5-828baf9b0ee9"
      },
      "source": [
        "# Linear regression on sepal length and sepal width of Iris Data set \n",
        "\n",
        "import numpy as np\n",
        "import matplotlib.pyplot as plt \n",
        "from sklearn import datasets\n",
        "\n",
        "iris = datasets.load_iris()\n",
        "x_test_setosa = iris.data[:25, 1:2] \n",
        "y_test_setosa = iris.data[:25, :1]\n",
        "x_test_versicolor = iris.data[50:75, 1:2] \n",
        "y_test_versicolor = iris.data[50:75, :1]\n",
        "x_test_verginica = iris.data[100:125, 1:2] \n",
        "y_test_verginica = iris.data[100:125, :1]\n",
        "plt.scatter(x_test_setosa,y_test_setosa, c=\"red\")\n",
        "plt.scatter(x_test_verginica,y_test_verginica, c=\"blue\")\n",
        "plt.scatter(x_test_versicolor,y_test_versicolor, c=\"green\")\n",
        "plt.xlabel(\"Sepal Width\")\n",
        "plt.ylabel(\"Sepal Length\")\n",
        "plt.title(\"Sepal Width vs Sepal Length\")\n",
        "plt.show()\n",
        "\n",
        "\n"
      ],
      "execution_count": 48,
      "outputs": [
        {
          "output_type": "display_data",
          "data": {
            "image/png": "[encoded data removed]",
            "text/plain": [
              "<Figure size 432x288 with 1 Axes>"
            ]
          },
          "metadata": {
            "tags": [],
            "needs_background": "light"
          }
        }
      ]
    },
    {
      "cell_type": "code",
      "metadata": {
        "id": "iTtH4c9JzwbJ",
        "colab_type": "code",
        "colab": {}
      },
      "source": [
        ""
      ],
      "execution_count": null,
      "outputs": []
    },
    {
      "cell_type": "code",
      "metadata": {
        "id": "jyJ4cGO_X3q8",
        "colab_type": "code",
        "colab": {
          "base_uri": "https://localhost:8080/",
          "height": 118
        },
        "outputId": "66cd0116-11c5-435d-d879-f2ee43378db9"
      },
      "source": [
        "mean_x_setosa =  x_test_setosa.mean()\n",
        "mean_y_setosa = y_test_setosa.mean()\n",
        "B1_setosa = np.divide(np.sum(np.multiply(np.subtract(x_test_setosa,mean_x_setosa),np.subtract(y_test_setosa,mean_y_setosa))),np.sum(np.square(np.subtract(x_test_setosa,mean_x_setosa))))\n",
        "B0_setosa = np.subtract(mean_y_setosa,np.multiply(B1_setosa,mean_x_setosa))\n",
        "\n",
        "mean_x_versicolor =  x_test_versicolor.mean()\n",
        "mean_y_versicolor = y_test_versicolor.mean()\n",
        "B1_versicolor = np.divide(np.sum(np.multiply(np.subtract(x_test_versicolor,mean_x_versicolor),np.subtract(y_test_versicolor,mean_y_versicolor))),np.sum(np.square(np.subtract(x_test_versicolor,mean_x_versicolor))))\n",
        "B0_versicolor = np.subtract(mean_y_versicolor,np.multiply(B1_versicolor,mean_x_versicolor))\n",
        "\n",
        "mean_x_verginica =  x_test_verginica.mean()\n",
        "mean_y_verginica = y_test_verginica.mean()\n",
        "B1_verginica = np.divide(np.sum(np.multiply(np.subtract(x_test_verginica,mean_x_verginica),np.subtract(y_test_verginica,mean_y_verginica))),np.sum(np.square(np.subtract(x_test_verginica,mean_x_verginica))))\n",
        "B0_verginica = np.subtract(mean_y_verginica,np.multiply(B1_verginica,mean_x_verginica))\n",
        "\n",
        "print( \"B0 for setosa : \", B0_setosa)\n",
        "print( \"B1 for setosa : \", B1_setosa)\n",
        "print( \"B0 for versicolor : \", B0_versicolor)\n",
        "print( \"B1 for versicolor : \", B1_versicolor)\n",
        "print( \"B0 for verginica : \", B0_verginica)\n",
        "print( \"B1 for verginica : \", B1_verginica)\n"
      ],
      "execution_count": 49,
      "outputs": [
        {
          "output_type": "stream",
          "text": [
            "B0 for setosa :  2.002748466257669\n",
            "B1 for setosa :  0.869325153374233\n",
            "B0 for versicolor :  3.5692390139335477\n",
            "B1 for versicolor :  0.8799571275455521\n",
            "B0 for verginica :  3.847789419882442\n",
            "B1 for verginica :  0.9317659085100946\n"
          ],
          "name": "stdout"
        }
      ]
    },
    {
      "cell_type": "code",
      "metadata": {
        "id": "yb9535YdljHj",
        "colab_type": "code",
        "colab": {
          "base_uri": "https://localhost:8080/",
          "height": 1000
        },
        "outputId": "4a4acd27-a3b5-46bd-da26-dcb00436abe7"
      },
      "source": [
        "x_predict_setosa = iris.data[25:50, 1:2]  \n",
        "y_actual_setosa = iris.data[25:50, :1]\n",
        "y_predict_setosa = np.zeros(25)\n",
        "y_predict_setosa = np.add(B0_setosa, np.multiply(B1_setosa,x_predict_setosa))\n",
        "print (\"Actual y for setosa:\",y_actual_setosa)\n",
        "print(\"Predicted y for setosa:\" , y_predict_setosa)\n",
        "\n",
        "x_predict_versicolor = iris.data[75:100, 1:2]  \n",
        "y_actual_versicolor = iris.data[75:100, :1]\n",
        "y_predict_versicolor = np.zeros(25)\n",
        "y_predict_versicolor = np.add(B0_versicolor, np.multiply(B1_versicolor,x_predict_versicolor))\n",
        "print (\"Actual y for versicolor:\",y_actual_versicolor)\n",
        "print(\"Predicted y for versicolor:\" , y_predict_versicolor)\n",
        "\n",
        "x_predict_verginica = iris.data[125:150, 1:2]  \n",
        "y_actual_verginica = iris.data[125:150, :1]\n",
        "y_predict_verginica = np.zeros(25)\n",
        "y_predict_verginica = np.add(B0_verginica, np.multiply(B1_verginica,x_predict_verginica))\n",
        "print (\"Actual y for verginica:\",y_actual_verginica)\n",
        "print(\"Predicted y for verginica:\" , y_predict_verginica)"
      ],
      "execution_count": 50,
      "outputs": [
        {
          "output_type": "stream",
          "text": [
            "Actual y for setosa: [[5. ]\n",
            " [5. ]\n",
            " [5.2]\n",
            " [5.2]\n",
            " [4.7]\n",
            " [4.8]\n",
            " [5.4]\n",
            " [5.2]\n",
            " [5.5]\n",
            " [4.9]\n",
            " [5. ]\n",
            " [5.5]\n",
            " [4.9]\n",
            " [4.4]\n",
            " [5.1]\n",
            " [5. ]\n",
            " [4.5]\n",
            " [4.4]\n",
            " [5. ]\n",
            " [5.1]\n",
            " [4.8]\n",
            " [5.1]\n",
            " [4.6]\n",
            " [5.3]\n",
            " [5. ]]\n",
            "Predicted y for setosa: [[4.61072393]\n",
            " [4.95845399]\n",
            " [5.0453865 ]\n",
            " [4.95845399]\n",
            " [4.78458896]\n",
            " [4.69765644]\n",
            " [4.95845399]\n",
            " [5.5669816 ]\n",
            " [5.65391411]\n",
            " [4.69765644]\n",
            " [4.78458896]\n",
            " [5.0453865 ]\n",
            " [5.13231902]\n",
            " [4.61072393]\n",
            " [4.95845399]\n",
            " [5.0453865 ]\n",
            " [4.00219632]\n",
            " [4.78458896]\n",
            " [5.0453865 ]\n",
            " [5.30618405]\n",
            " [4.61072393]\n",
            " [5.30618405]\n",
            " [4.78458896]\n",
            " [5.21925153]\n",
            " [4.87152147]]\n",
            "Actual y for versicolor: [[6.6]\n",
            " [6.8]\n",
            " [6.7]\n",
            " [6. ]\n",
            " [5.7]\n",
            " [5.5]\n",
            " [5.5]\n",
            " [5.8]\n",
            " [6. ]\n",
            " [5.4]\n",
            " [6. ]\n",
            " [6.7]\n",
            " [6.3]\n",
            " [5.6]\n",
            " [5.5]\n",
            " [5.5]\n",
            " [6.1]\n",
            " [5.8]\n",
            " [5. ]\n",
            " [5.6]\n",
            " [5.7]\n",
            " [5.7]\n",
            " [6.2]\n",
            " [5.1]\n",
            " [5.7]]\n",
            "Predicted y for versicolor: [[6.2091104 ]\n",
            " [6.03311897]\n",
            " [6.2091104 ]\n",
            " [6.12111468]\n",
            " [5.85712755]\n",
            " [5.68113612]\n",
            " [5.68113612]\n",
            " [5.94512326]\n",
            " [5.94512326]\n",
            " [6.2091104 ]\n",
            " [6.56109325]\n",
            " [6.29710611]\n",
            " [5.59314041]\n",
            " [6.2091104 ]\n",
            " [5.76913183]\n",
            " [5.85712755]\n",
            " [6.2091104 ]\n",
            " [5.85712755]\n",
            " [5.59314041]\n",
            " [5.94512326]\n",
            " [6.2091104 ]\n",
            " [6.12111468]\n",
            " [6.12111468]\n",
            " [5.76913183]\n",
            " [6.03311897]]\n",
            "Actual y for verginica: [[7.2]\n",
            " [6.2]\n",
            " [6.1]\n",
            " [6.4]\n",
            " [7.2]\n",
            " [7.4]\n",
            " [7.9]\n",
            " [6.4]\n",
            " [6.3]\n",
            " [6.1]\n",
            " [7.7]\n",
            " [6.3]\n",
            " [6.4]\n",
            " [6. ]\n",
            " [6.9]\n",
            " [6.7]\n",
            " [6.9]\n",
            " [5.8]\n",
            " [6.8]\n",
            " [6.7]\n",
            " [6.7]\n",
            " [6.3]\n",
            " [6.5]\n",
            " [6.2]\n",
            " [5.9]]\n",
            "Predicted y for verginica: [[6.82944033]\n",
            " [6.45673396]\n",
            " [6.64308715]\n",
            " [6.45673396]\n",
            " [6.64308715]\n",
            " [6.45673396]\n",
            " [7.38849987]\n",
            " [6.45673396]\n",
            " [6.45673396]\n",
            " [6.27038078]\n",
            " [6.64308715]\n",
            " [7.01579351]\n",
            " [6.73626374]\n",
            " [6.64308715]\n",
            " [6.73626374]\n",
            " [6.73626374]\n",
            " [6.73626374]\n",
            " [6.36355737]\n",
            " [6.82944033]\n",
            " [6.92261692]\n",
            " [6.64308715]\n",
            " [6.17720419]\n",
            " [6.64308715]\n",
            " [7.01579351]\n",
            " [6.64308715]]\n"
          ],
          "name": "stdout"
        }
      ]
    },
    {
      "cell_type": "code",
      "metadata": {
        "id": "DDzdImTZl5YY",
        "colab_type": "code",
        "colab": {
          "base_uri": "https://localhost:8080/",
          "height": 67
        },
        "outputId": "c53dfbf8-4c9b-43f3-b5aa-9fe0db56c790"
      },
      "source": [
        "error_setosa = np.sqrt(np.divide(np.sum(np.square(np.subtract(y_actual_setosa,y_predict_setosa))),x_predict_setosa.size))\n",
        "print(\"Error for setosa sepal model :\", error_setosa)\n",
        "\n",
        "error_versicolor = np.sqrt(np.divide(np.sum(np.square(np.subtract(y_actual_versicolor,y_predict_versicolor))),x_predict_versicolor.size))\n",
        "print(\"Error for versicolor sepal model :\", error_versicolor)\n",
        "\n",
        "error_verginica = np.sqrt(np.divide(np.sum(np.square(np.subtract(y_actual_verginica,y_predict_verginica))),x_predict_verginica.size))\n",
        "print(\"Error for verginica sepal model :\", error_verginica)"
      ],
      "execution_count": 51,
      "outputs": [
        {
          "output_type": "stream",
          "text": [
            "Error for setosa sepal model : 0.25272006069760644\n",
            "Error for versicolor sepal model : 0.4382202615073891\n",
            "Error for verginica sepal model : 0.48395219607114043\n"
          ],
          "name": "stdout"
        }
      ]
    },
    {
      "cell_type": "code",
      "metadata": {
        "id": "C5p2bi9mqEXe",
        "colab_type": "code",
        "colab": {}
      },
      "source": [
        ""
      ],
      "execution_count": null,
      "outputs": []
    }
  ]
}